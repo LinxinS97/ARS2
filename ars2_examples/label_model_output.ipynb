{
 "cells": [
  {
   "cell_type": "code",
   "execution_count": 18,
   "metadata": {
    "pycharm": {
     "name": "#%%\n"
    }
   },
   "outputs": [
    {
     "name": "stdout",
     "output_type": "stream",
     "text": [
      "2022-06-06 15:21:56 - loading data from wrench/datasets/chemprot/train.json\n"
     ]
    },
    {
     "data": {
      "text/plain": "  0%|          | 0/12861 [00:00<?, ?it/s]",
      "application/vnd.jupyter.widget-view+json": {
       "version_major": 2,
       "version_minor": 0,
       "model_id": "05bc5bb299054f62afc814b1347ebb99"
      }
     },
     "metadata": {},
     "output_type": "display_data"
    },
    {
     "name": "stdout",
     "output_type": "stream",
     "text": [
      "2022-06-06 15:21:56 - loading data from wrench/datasets/chemprot/valid.json\n"
     ]
    },
    {
     "data": {
      "text/plain": "  0%|          | 0/1607 [00:00<?, ?it/s]",
      "application/vnd.jupyter.widget-view+json": {
       "version_major": 2,
       "version_minor": 0,
       "model_id": "bc049be450d34157ab73381465844fb2"
      }
     },
     "metadata": {},
     "output_type": "display_data"
    },
    {
     "name": "stdout",
     "output_type": "stream",
     "text": [
      "2022-06-06 15:21:57 - loading data from wrench/datasets/chemprot/test.json\n"
     ]
    },
    {
     "data": {
      "text/plain": "  0%|          | 0/1607 [00:00<?, ?it/s]",
      "application/vnd.jupyter.widget-view+json": {
       "version_major": 2,
       "version_minor": 0,
       "model_id": "e764cccd6878457c9b76be9e9a2857ba"
      }
     },
     "metadata": {},
     "output_type": "display_data"
    },
    {
     "name": "stdout",
     "output_type": "stream",
     "text": [
      "2022-06-06 15:21:57 - loading features from wrench/datasets/chemprot/train_bert.pkl\n",
      "2022-06-06 15:21:57 - loading features from wrench/datasets/chemprot/valid_bert.pkl\n",
      "2022-06-06 15:21:57 - loading features from wrench/datasets/chemprot/test_bert.pkl\n"
     ]
    }
   ],
   "source": [
    "import sys\n",
    "sys.path.append('../wrench')\n",
    "import logging\n",
    "import torch\n",
    "import numpy as np\n",
    "from wrench.dataset import load_dataset\n",
    "from wrench.logging import LoggingHandler\n",
    "from wrench.labelmodel import Snorkel\n",
    "from ars2 import create_unbalanced_set, calc_prior\n",
    "\n",
    "#### Just some code to print debug information to stdout\n",
    "logging.basicConfig(format='%(asctime)s - %(message)s',\n",
    "                    datefmt='%Y-%m-%d %H:%M:%S',\n",
    "                    level=logging.INFO,\n",
    "                    handlers=[LoggingHandler()])\n",
    "\n",
    "logger = logging.getLogger(__name__)\n",
    "\n",
    "device = torch.device('cuda')\n",
    "\n",
    "#### Load dataset\n",
    "dataset_path = 'wrench/datasets/'\n",
    "data = 'chemprot'\n",
    "imbalance_ratio = 1\n",
    "train_data, valid_data, test_data = load_dataset(\n",
    "    dataset_path,\n",
    "    data,\n",
    "    extract_feature=True,\n",
    "    extract_fn='bert', # extract bert embedding\n",
    "    model_name='bert-base-cased',\n",
    "    cache_name='bert'\n",
    ")"
   ]
  },
  {
   "cell_type": "code",
   "execution_count": 19,
   "metadata": {
    "pycharm": {
     "name": "#%%\n"
    }
   },
   "outputs": [
    {
     "name": "stdout",
     "output_type": "stream",
     "text": [
      "[ 540 3422 1662 4067  395  606   55   51 1498  565]\n",
      "[ 72 398 210 533  52  76   9   9 183  65]\n",
      "[540, 3422, 1662, 4067, 395, 606, 55, 51, 1498, 565]\n",
      "[72, 398, 210, 533, 52, 76, 9, 9, 183, 65]\n"
     ]
    }
   ],
   "source": [
    "# print(calc_prior(train_data.labels, train_data.n_class))\n",
    "# print(calc_prior(valid_data.labels, valid_data.n_class))\n",
    "imbalance_ids_train = create_unbalanced_set(train_data, imbalance_ratio)\n",
    "imbalance_ids_valid = create_unbalanced_set(valid_data, imbalance_ratio)\n",
    "train_data = train_data.create_subset(imbalance_ids_train)\n",
    "valid_data = valid_data.create_subset(imbalance_ids_valid)\n",
    "print(calc_prior(train_data.labels, train_data.n_class))\n",
    "print(calc_prior(valid_data.labels, valid_data.n_class))"
   ]
  },
  {
   "cell_type": "code",
   "execution_count": 20,
   "outputs": [],
   "source": [
    "paras = {\n",
    "    'agnews'    : {'GenerativeModel': {'l2': 0.001, 'lr': 0.0001, 'n_epochs': 100},\n",
    "                   'Snorkel'        : {'l2': 0.01, 'lr': 0.01, 'n_epochs': 200}},\n",
    "    'basketball': {'GenerativeModel': {'l2': 0.1, 'lr': 5e-05, 'n_epochs': 50},\n",
    "                   'Snorkel'        : {'l2': 1e-05, 'lr': 0.0001, 'n_epochs': 10}},\n",
    "    'cdr'       : {'GenerativeModel': {'l2': 0.01, 'lr': 1e-05, 'n_epochs': 5},\n",
    "                   'Snorkel'        : {'l2': 0.001, 'lr': 1e-05, 'n_epochs': 5}},\n",
    "    'census'    : {'GenerativeModel': {'l2': 0.1, 'lr': 1e-05, 'n_epochs': 5},\n",
    "                   'Snorkel'        : {'l2': 0.0001, 'lr': 0.1, 'n_epochs': 10}},\n",
    "    'chemprot'  : {'GenerativeModel': {'l2': 1e-05, 'lr': 1e-05, 'n_epochs': 5},\n",
    "                   'Snorkel'        : {'l2': 0.001, 'lr': 0.001, 'n_epochs': 5}},\n",
    "    'commercial': {'GenerativeModel': {'l2': 1e-05, 'lr': 1e-05, 'n_epochs': 50},\n",
    "                   'Snorkel'        : {'l2': 1e-05, 'lr': 0.1, 'n_epochs': 200}},\n",
    "    'imdb'      : {'GenerativeModel': {'l2': 0.1, 'lr': 0.0001, 'n_epochs': 5},\n",
    "                   'Snorkel'        : {'l2': 0.001, 'lr': 0.1, 'n_epochs': 200}},\n",
    "    'semeval'   : {'GenerativeModel': {'l2': 0.1, 'lr': 0.0001, 'n_epochs': 5},\n",
    "                   'Snorkel'        : {'l2': 0.001, 'lr': 0.001, 'n_epochs': 10}},\n",
    "    'sms'       : {'GenerativeModel': {'l2': 0.0001, 'lr': 5e-05, 'n_epochs': 100},\n",
    "                   'Snorkel'        : {'l2': 0.0001, 'lr': 1e-05, 'n_epochs': 5}},\n",
    "    'spouse'    : {'GenerativeModel': {'l2': 0.1, 'lr': 5e-05, 'n_epochs': 100},\n",
    "                   'Snorkel'        : {'l2': 0.1, 'lr': 0.001, 'n_epochs': 5}},\n",
    "    'tennis'    : {'GenerativeModel': {'l2': 0.1, 'lr': 5e-05, 'n_epochs': 5},\n",
    "                   'Snorkel'        : {'l2': 1e-05, 'lr': 0.0001, 'n_epochs': 100}},\n",
    "    'trec'      : {'GenerativeModel': {'l2': 0.001, 'lr': 0.0001, 'n_epochs': 200},\n",
    "                   'Snorkel'        : {'l2': 0.1, 'lr': 0.001, 'n_epochs': 5}},\n",
    "    'yelp'      : {'GenerativeModel': {'l2': 0.1, 'lr': 0.0001, 'n_epochs': 5},\n",
    "                   'Snorkel'        : {'l2': 1e-05, 'lr': 0.1, 'n_epochs': 100}},\n",
    "    'youtube'   : {'GenerativeModel': {'l2': 0.1, 'lr': 0.0001, 'n_epochs': 50},\n",
    "                   'Snorkel'        : {'l2': 0.01, 'lr': 0.01, 'n_epochs': 200}}}"
   ],
   "metadata": {
    "collapsed": false,
    "pycharm": {
     "name": "#%%\n"
    }
   }
  },
  {
   "cell_type": "code",
   "execution_count": 21,
   "metadata": {
    "pycharm": {
     "name": "#%%\n"
    }
   },
   "outputs": [
    {
     "name": "stderr",
     "output_type": "stream",
     "text": [
      "100%|█████████████████████████████████████████████████████████████████████████████████| 5/5 [00:00<00:00, 168.04epoch/s]"
     ]
    },
    {
     "name": "stdout",
     "output_type": "stream",
     "text": [
      "2022-06-06 15:22:03 - label model test acc: 0.5196017423771002\n"
     ]
    },
    {
     "name": "stderr",
     "output_type": "stream",
     "text": [
      "\n"
     ]
    }
   ],
   "source": [
    "#### Run label model: Snorkel\n",
    "label_model = Snorkel(\n",
    "    **paras[data]['Snorkel']\n",
    ")\n",
    "label_model.fit(\n",
    "    dataset_train=train_data,\n",
    "    dataset_valid=valid_data\n",
    ")\n",
    "acc = label_model.test(test_data, 'acc')\n",
    "logger.info(f'label model test acc: {acc}')"
   ]
  },
  {
   "cell_type": "code",
   "execution_count": 22,
   "metadata": {
    "pycharm": {
     "name": "#%%\n"
    }
   },
   "outputs": [
    {
     "name": "stdout",
     "output_type": "stream",
     "text": [
      "[434, 2580, 1533, 3846, 388, 606, 45, 50, 1092, 498]\n",
      "[72, 398, 210, 533, 52, 76, 9, 9, 183, 65]\n"
     ]
    }
   ],
   "source": [
    "#### Filter out uncovered training data\n",
    "train_data = train_data.get_covered_subset()\n",
    "aggregated_hard_labels = label_model.predict(train_data)\n",
    "aggregated_soft_labels = label_model.predict_proba(train_data)\n",
    "print(calc_prior(train_data.labels, train_data.n_class))\n",
    "print(calc_prior(valid_data.labels, valid_data.n_class))"
   ]
  },
  {
   "cell_type": "code",
   "execution_count": 23,
   "metadata": {
    "pycharm": {
     "name": "#%%\n"
    }
   },
   "outputs": [
    {
     "data": {
      "text/plain": "array([1998, 1592, 4257, ..., 2856, 3287,  502])"
     },
     "execution_count": 23,
     "metadata": {},
     "output_type": "execute_result"
    }
   ],
   "source": [
    "imbalance_ids_train"
   ]
  },
  {
   "cell_type": "code",
   "execution_count": 24,
   "metadata": {
    "pycharm": {
     "name": "#%%\n"
    }
   },
   "outputs": [],
   "source": [
    "np.save(f'./wrench/im_examples/label_model_output/train_ids_imbalance{imbalance_ratio}_{data}.npy', imbalance_ids_train)\n",
    "np.save(f'./wrench/im_examples/label_model_output/valid_ids_imbalance{imbalance_ratio}_{data}.npy', imbalance_ids_valid)\n",
    "np.save(f'./wrench/im_examples/label_model_output/pred_imbalance{imbalance_ratio}_{data}_hard.npy', aggregated_hard_labels)"
   ]
  },
  {
   "cell_type": "code",
   "execution_count": null,
   "metadata": {
    "pycharm": {
     "name": "#%%\n"
    }
   },
   "outputs": [],
   "source": []
  }
 ],
 "metadata": {
  "kernelspec": {
   "name": "conda-env-wrench-py",
   "language": "python",
   "display_name": "Python [conda env:wrench] *"
  },
  "language_info": {
   "codemirror_mode": {
    "name": "ipython",
    "version": 3
   },
   "file_extension": ".py",
   "mimetype": "text/x-python",
   "name": "python",
   "nbconvert_exporter": "python",
   "pygments_lexer": "ipython3",
   "version": "3.8.12"
  }
 },
 "nbformat": 4,
 "nbformat_minor": 1
}